{
 "cells": [
  {
   "cell_type": "markdown",
   "metadata": {},
   "source": [
    "### GTFS Reference Data Access"
   ]
  },
  {
   "cell_type": "code",
   "execution_count": null,
   "metadata": {},
   "outputs": [],
   "source": [
    "from gtfs_data_access import (\n",
    "    get_journey_by_id,\n",
    "    get_current_journeys,\n",
    "    get_trip_summary,\n",
    ")\n",
    "\n",
    "print(\"=== Current Route 1 Journeys (Next 3 Hours) ===\")\n",
    "journeys = get_current_journeys(route_ids=[\"1\"], hours_ahead=1)\n",
    "print(f\"Found {len(journeys)} journey segments\")\n",
    "journeys.head(5)"
   ]
  },
  {
   "cell_type": "code",
   "execution_count": null,
   "metadata": {},
   "outputs": [],
   "source": [
    "import json\n",
    "\n",
    "# trip_id: AFA24GEN-1093-Weekday-00_113950_1..N03R\n",
    "# route: 1\n",
    "# direction: North\n",
    "# headsign: Van Cortlandt Park-242 St\n",
    "# summary: 38 stops from \"South Ferry\" to \"Van Cortlandt Park-242 St\"\n",
    "trip_id = \"AFA24GEN-1093-Weekday-00_113950_1..N03R\"\n",
    "\n",
    "print(\"=== Specific Journey ===\")\n",
    "journeys = get_journey_by_id(trip_id)\n",
    "print(f\"Found {len(journeys)} journey segments\")\n",
    "journeys.head(5)"
   ]
  },
  {
   "cell_type": "code",
   "execution_count": null,
   "metadata": {},
   "outputs": [],
   "source": [
    "print(\"=== Partial Trip Summary ===\")\n",
    "partial_summary = get_trip_summary(trip_id, from_stop=\"14 St\")\n",
    "print(json.dumps(partial_summary, indent=2))"
   ]
  },
  {
   "cell_type": "markdown",
   "metadata": {},
   "source": [
    "### Write to Turbopuffer"
   ]
  },
  {
   "cell_type": "code",
   "execution_count": 32,
   "metadata": {},
   "outputs": [
    {
     "name": "stdout",
     "output_type": "stream",
     "text": [
      "Upserted 108,707 journey documents to namespace 'mta-gtfs-journeys'\n"
     ]
    }
   ],
   "source": [
    "import os\n",
    "import turbopuffer as tpuf\n",
    "from gtfs_data_access import get_journeys_json\n",
    "from dotenv import load_dotenv\n",
    "\n",
    "load_dotenv()\n",
    "\n",
    "tpuf.api_key = os.getenv(\"TURBOPUFFER_API_KEY\")\n",
    "tpuf.api_base_url = os.getenv(\"TURBOPUFFER_BASE_URL\")\n",
    "\n",
    "ns = tpuf.Namespace(f\"mta-gtfs-journeys\")\n",
    "try:\n",
    "    # Delete existing namespace\n",
    "    ns.delete_all()\n",
    "except tpuf.NotFoundError:\n",
    "    pass\n",
    "\n",
    "schema = {\n",
    "    \"id\": {\"type\": \"string\"},\n",
    "    \"trip_id\": {\"type\": \"string\", \"filterable\": True},\n",
    "    \"service_id\": {\"type\": \"string\", \"filterable\": True},\n",
    "    \"route_id\": {\"type\": \"string\", \"filterable\": True},\n",
    "    \"route_name\": {\"type\": \"string\", \"full_text_search\": True},\n",
    "    \"direction\": {\"type\": \"string\", \"filterable\": True},\n",
    "    \"trip_headsign\": {\"type\": \"string\"},\n",
    "    \"stop_id\": {\"type\": \"string\"},\n",
    "    \"stop_sequence\": {\"type\": \"int\"},\n",
    "    \"stop_name\": {\"type\": \"string\", \"full_text_search\": True},\n",
    "    \"next_stop_name\": {\"type\": \"string\", \"full_text_search\": True},\n",
    "    \"arrival_time\": {\"type\": \"string\", \"filterable\": True},\n",
    "    \"arrival_time_epoch\": {\"type\": \"int\", \"filterable\": True},\n",
    "}\n",
    "\n",
    "# Write journey documents in batches\n",
    "for batch in get_journeys_json(route_ids=[\"1\", \"2\", \"3\"], batch_size=10000):\n",
    "    ns.write(upsert_rows=batch, schema=schema)\n",
    "\n",
    "print(f\"Upserted {ns.approx_count():,} journey documents to namespace '{ns.name}'\")"
   ]
  },
  {
   "cell_type": "code",
   "execution_count": 41,
   "metadata": {},
   "outputs": [
    {
     "name": "stdout",
     "output_type": "stream",
     "text": [
      "Train arrival time between: 11:37:17 and 12:07:17\n",
      "+----+---------------------------+-------------+---------------------------+-----------------+----------------+-------------+---------------------------+\n",
      "|    | route_name                | direction   | next_stop_name            |   stop_sequence | arrival_time   | stop_name   | trip_headsign             |\n",
      "|----+---------------------------+-------------+---------------------------+-----------------+----------------+-------------+---------------------------|\n",
      "|  0 | Broadway - 7 Avenue Local | North       | 18 St                     |               9 | 11:38:30       | 14 St       | Van Cortlandt Park-242 St |\n",
      "|  1 | Broadway - 7 Avenue Local | North       | 18 St                     |               9 | 11:44:30       | 14 St       | Van Cortlandt Park-242 St |\n",
      "|  2 | Broadway - 7 Avenue Local | North       | 18 St                     |               9 | 11:49:30       | 14 St       | Van Cortlandt Park-242 St |\n",
      "|  3 | Broadway - 7 Avenue Local | North       | 18 St                     |               9 | 11:55:00       | 14 St       | Van Cortlandt Park-242 St |\n",
      "|  4 | Broadway - 7 Avenue Local | North       | 18 St                     |               9 | 12:01:00       | 14 St       | Van Cortlandt Park-242 St |\n",
      "|  5 | Broadway - 7 Avenue Local | North       | 18 St                     |               9 | 12:07:00       | 14 St       | Van Cortlandt Park-242 St |\n",
      "|  6 | 7 Avenue Express          | North       | 34 St-Penn Station        |              21 | 11:43:00       | 14 St       | Wakefield-241 St          |\n",
      "|  7 | 7 Avenue Express          | North       | 34 St-Penn Station        |              21 | 11:50:00       | 14 St       | Wakefield-241 St          |\n",
      "|  8 | 7 Avenue Express          | North       | 34 St-Penn Station        |              21 | 11:58:00       | 14 St       | Wakefield-241 St          |\n",
      "|  9 | 7 Avenue Express          | North       | 34 St-Penn Station        |              21 | 12:06:00       | 14 St       | Wakefield-241 St          |\n",
      "| 10 | 7 Avenue Express          | North       | 34 St-Penn Station        |              24 | 11:41:00       | 14 St       | Harlem-148 St             |\n",
      "| 11 | 7 Avenue Express          | North       | 34 St-Penn Station        |              24 | 11:48:00       | 14 St       | Harlem-148 St             |\n",
      "| 12 | 7 Avenue Express          | North       | 34 St-Penn Station        |              24 | 11:54:00       | 14 St       | Harlem-148 St             |\n",
      "| 13 | 7 Avenue Express          | North       | 34 St-Penn Station        |              24 | 12:02:00       | 14 St       | Harlem-148 St             |\n",
      "| 14 | Broadway - 7 Avenue Local | North       | Dyckman St                |              31 | 11:37:30       | 191 St      | Van Cortlandt Park-242 St |\n",
      "| 15 | Broadway - 7 Avenue Local | North       | 191 St                    |              30 | 11:41:00       | 181 St      | Van Cortlandt Park-242 St |\n",
      "| 16 | Broadway - 7 Avenue Local | North       | Van Cortlandt Park-242 St |              37 | 11:51:30       | 238 St      | Van Cortlandt Park-242 St |\n",
      "| 17 | Broadway - 7 Avenue Local | North       | 157 St                    |              27 | 11:40:30       | 145 St      | Van Cortlandt Park-242 St |\n",
      "| 18 | Broadway - 7 Avenue Local | North       | 191 St                    |              30 | 11:46:00       | 181 St      | Van Cortlandt Park-242 St |\n",
      "| 19 | Broadway - 7 Avenue Local | North       | 207 St                    |              32 | 11:59:00       | Dyckman St  | Van Cortlandt Park-242 St |\n",
      "+----+---------------------------+-------------+---------------------------+-----------------+----------------+-------------+---------------------------+\n"
     ]
    }
   ],
   "source": [
    "import pandas as pd\n",
    "from tabulate import tabulate\n",
    "from datetime import datetime, timedelta\n",
    "\n",
    "time_now = datetime.now().time().strftime(\"%H:%M:%S\")\n",
    "query_time_now = pd.to_datetime(time_now, format=\"%H:%M:%S\")\n",
    "time_plus = (datetime.now() + timedelta(minutes=30)).time().strftime(\"%H:%M:%S\")\n",
    "query_time_plus = pd.to_datetime(time_plus, format=\"%H:%M:%S\")\n",
    "print(f\"Train arrival time between: {time_now} and {time_plus}\")\n",
    "\n",
    "weekday = datetime.now().strftime(\"%A\")\n",
    "if weekday == \"Sunday\":\n",
    "    service_id = \"Sunday\"\n",
    "elif weekday == \"Saturday\":\n",
    "    service_id = \"Saturday\"\n",
    "else:\n",
    "    service_id = \"Weekday\"\n",
    "\n",
    "results = ns.query(\n",
    "    rank_by=[\"stop_name\", \"BM25\", \"14 St\"],\n",
    "    filters=[\n",
    "        \"And\",\n",
    "        [\n",
    "            [\"direction\", \"Eq\", \"North\"],\n",
    "            [\"service_id\", \"Eq\", service_id],\n",
    "            [\"arrival_time_epoch\", \"Gt\", query_time_now.value],\n",
    "            [\"arrival_time_epoch\", \"Lt\", query_time_plus.value],\n",
    "        ],\n",
    "    ],\n",
    "    top_k=20,\n",
    "    include_attributes=[\n",
    "        \"route_name\",\n",
    "        \"direction\",\n",
    "        \"trip_headsign\",\n",
    "        \"stop_name\",\n",
    "        \"stop_sequence\",\n",
    "        \"arrival_time\",\n",
    "        \"next_stop_name\",\n",
    "    ],\n",
    ")\n",
    "\n",
    "df = pd.DataFrame([row.attributes for row in results.rows])\n",
    "print(tabulate(df, headers='keys', tablefmt='psql', showindex=True))\n"
   ]
  },
  {
   "cell_type": "code",
   "execution_count": null,
   "metadata": {},
   "outputs": [],
   "source": []
  }
 ],
 "metadata": {
  "kernelspec": {
   "display_name": ".venv",
   "language": "python",
   "name": "python3"
  },
  "language_info": {
   "codemirror_mode": {
    "name": "ipython",
    "version": 3
   },
   "file_extension": ".py",
   "mimetype": "text/x-python",
   "name": "python",
   "nbconvert_exporter": "python",
   "pygments_lexer": "ipython3",
   "version": "3.12.10"
  }
 },
 "nbformat": 4,
 "nbformat_minor": 2
}
